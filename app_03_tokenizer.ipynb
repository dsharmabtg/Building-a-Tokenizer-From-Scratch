{
  "cells": [
    {
      "cell_type": "code",
      "execution_count": 1,
      "metadata": {
        "id": "5llalAuwNScZ"
      },
      "outputs": [],
      "source": [
        "import torch\n",
        "import re"
      ]
    },
    {
      "cell_type": "markdown",
      "metadata": {
        "id": "F-KOU0ZbNScd"
      },
      "source": [
        "### Read the words list and convert into a unique_words python list"
      ]
    },
    {
      "cell_type": "code",
      "execution_count": 2,
      "metadata": {
        "id": "BTLZghatNScg"
      },
      "outputs": [],
      "source": [
        "# Define the path to your text file\n",
        "doc_name = \"the_return_of_sherlock_holmes\"\n",
        "\n",
        "file_path = f\"{doc_name}/{doc_name}_words.txt\"\n",
        "\n",
        "# Initialize an empty list to hold the lines of the file\n",
        "lines_list = []\n",
        "\n",
        "# Open the file for reading ('r')\n",
        "with open(file_path, 'r', encoding='utf-8') as file:\n",
        "    # Read all lines in the file and add them to the list\n",
        "    lines_list = file.readlines()\n",
        "\n",
        "# Now lines_list contains all the lines from the file\n",
        "# If you want to remove newline characters from the end of each line, you can do:\n",
        "unique_words = [line.strip() for line in lines_list]\n"
      ]
    },
    {
      "cell_type": "markdown",
      "metadata": {
        "id": "f3FUcoDLNSch"
      },
      "source": [
        "### Lets concatenate all the unique words into a list_as_text variable. You could work directly with the python list, though."
      ]
    },
    {
      "cell_type": "code",
      "execution_count": 3,
      "metadata": {
        "id": "RB3qtTxlNSci"
      },
      "outputs": [],
      "source": [
        "list_as_text = ' '.join(unique_words)"
      ]
    },
    {
      "cell_type": "code",
      "source": [
        "list_as_text"
      ],
      "metadata": {
        "colab": {
          "base_uri": "https://localhost:8080/",
          "height": 140
        },
        "id": "zNrs-qLNOF6t",
        "outputId": "2c1e8772-419c-4d13-8520-30d725ff7783"
      },
      "execution_count": 4,
      "outputs": [
        {
          "output_type": "execute_result",
          "data": {
            "text/plain": [
              "'a ab aback abandon abandoned abandoning abbey abbeys abduc abduction abe abergavenny abernetty aberration abetted abhorrent abhors ability able ably abnormally abode abominable abortive about above abrasion abreast abroad abrupt absconding absence absent abso absolute absolutely absorbed abstracted abstruse absurd absurdly abuse abyss ac aca accent accept acceptable acceptance accepted accepting access accessory accident accidental accidentally accompanied accompaniments accompany accomplice accomplish accord according account accounted accounts accu accumulating accuracyi accurately accursed accus accusation accuse accustomed acid acknowledge acknowledged acquain acquaintance acquaintances acqui acquiescence acquired acquiring acquitted acres acrobat across act acted actedhow acthe acting action actions actionthe actionyou active activity actly actors acts actu actual actually acumen ad adair adairs adaptable adapted add added adding addition additional addleton address addressed addressing adelaide adequate adhere adjectives adjoining adjusted administration admira admirable admirably admiralty admiration admire admirer admirers admit admits admitted adopt adorned advance advanced advances advancing advantage adven adventure adventures adventurous advertisement advertisements advice advise advised advises af afew affair affairs affect affected affection affectionately affluent afford afforded afghan afoot afootpath afraid africa african after afternoon afterwards again against agatha agathathats age aged agencies agency agent agents ager ages aggressive aggressively agi agile agitated agitation ago agoit agony agree agreeable agreed agreement agrimy ah aha ahead ahundred aid aided aim aimed air ajar akimbo al alarm alarmed alas alert alertness alexandria alexandrian alexis alibi alight alighted alighting alike alive all allardyces alled alley allow allowance allowed allowing allows allude alluded allusion allusions ally almost alone along aloud alphabet already also alter alterations alterna alternative although altogether always am amassed amateur amaze amazed amazement amazing amber ambi ambob ambuscade ambut amends ameri america american amiability amid amidst amidthe amined amining amiss among amongst amount amounted amounts ample amply amuse amused amusement amusing an anaemic analysis analyze anarchist ance ancestors ancient and andaman andhe andto anerley angel anger angle anglia anglo angry angu anguish animal aniseed ankle ankles anna announce announced announcement annoy annoyance annoyed annoys another anotherit answer answerable answered answering antagonist ante anticipate anticipated antics antidote anx anxieties anxiety anxious any anyhow anyone anything anyway anywhere ap apart apartment ape aperture apologies apologize apologized apology appalled apparent apparently apparentlygone appeal appealed appealing appeals appear appearance appeared appearedsince appears appearsthough appetite applause apple appledore applicant application applied appointment appreciate appreciated apprehended apprehension approach approached approaching appropriate approve approvingly april aquiline ar arable arbitrary arched archie architectural architecture arctic ardent are area areand argentine argue argued argues arguing argument arguments aright aris arise aristocrat aristocratic arm armed arms armstrong armstrongs army arose around arouse aroused arrange arranged arrangement arranges arranging array arrest arrested arresting arrival arrive arrived arrives arriving arson art artery arthur arthurthat article articles artificial artist artists arts arty as ascended ascer ascertain ascertained ascetic ascii ash ashamed ashen ashes aside ask askan askance asked askedfor asking asleep asper assailant assassin assassinan assault assaults assembled assent assented assert asserted assiduously assis assist assistance assistant associate associated associates associations assume assumed assurance assure assured assures asthmatic aston astonish astonished astonishing astonishingly astonishment astounding astrachan at ate ately atesave athene athlete athletic atmo atmosphere atoms atonement atones attached attaches attack attacked attacks attain attained attempt attempted attempting atten attend attendant attended attention attentive attics attire attitude attracted attribute attributed audacity audience august augustus aus austere austerlitz australia australian author authorities autograph autumn avail available availed aveling avenged avenger avenue average averse aviary avidity avoid avoided aw await awaited awaiting awaits awak awakened aware away awful awhile awkward awry axed b babbled baboon baby baccoall baccy bachelor back backdoor backed backwards backwater backyou bad bade badly badquite baffled bag bagatelle baggage bags bait baize baker balance balanced bald baldness baldwin ball balmoral ban band bandnothing bands bangor banish bank banked banker bankers banking banks bannister bannisters bar barbed bare bargain baritsu barking barnicot barnicots baron baronet barons barred barrel barrels barrett barrow bars base basement basil basiland basis bass batch bath bathing battle bawl bay bayswater baythe be beagle beamed bear beard bearded bearing bears bearskin beast beasts beat beaten beating beats beau beauties beautiful beauty beautywas became because become becomes becoming bed bedroom bedrooms bedside bee been beer bees beetle befall befallen befell before beforeabout beforean beg began beggarly begged begin beginning begins begun behalf behaviour behind behold being belated belgrade belief believe believed believes bell bellinger bellow belminster belonged belonging belongs below belt bench bend bending beneath benefactor benefit benevolence bengalore bent bentleys beppo ber bereavement bers bert berth beseeching beside besides bespattered best bestow bet betaken betray betrayed better betting between beverley bewildered beyond bi bibliophile bicy bicycle bicycled bicycles bicyclist bid bids big bigger bility bill billiard billiards bills bind binding biographies bird birds birth biscuit biscuits bit bite bits bitt bitter bitterly bitterness bitts bizarre black blacker blackest blackguard blackheath blackmailed blackmailers blackmailing blackness blackthorn blackwater blade blame bland blandest blank blaze blazed blazes blazing ble bleak bleat bleeding blended bless blessed blessing blew blind blindness blinds blinking block blocked blocks blond blonde blood bloodless bloom blos blotting blow blowing blown blud blue bluebottles blues blunder blunt blurred blurted blushed bly board boarding boards boasted boat bob boded bodied body bog boggling boggy boil boisterous bold bols bolt bolted bone bones bonny bony book bookan bookcase books bookshop bookworm boomed boots border bordering borders bore bored borgia borgias born borne borrow borrowed bosom boss both bother bothered bothers bottle bottom bought boulder boulders boulevard bound bounded bour bow bowed bowling box boxes boxhis boxing boy boys braced bracing brack bracken brackenstall brackenstalls bracket bracketyou brain brains brambletye branch brandy brass bravado brawl brawny brazen breach bread breadth break breaker breakfast breakfasted breaking breaks breast breath breathe breathed breathing breathless breech brewing bribe brick bridegroom bridge bright brightened brighter brightest brightly brightness brilliant brimmed brindled bring bringing brings brink brisk briskest bristled bristling britain british brix brixton bro broad broadened broader broidered broke broken broker brokers brooding brother brotherhood brothers brougham broughams brought brow browbeat brown brows bruise brushed brutal brutality brute bucket buckets budding budge budges build builder building buildings built bulky bull bulldog bullet bullets bully bullying bulwark bundle bundles bungler bunk burden bureau burglar burglars burglary burgle burgled burgling buried burn burned burning burns burrow burst burying bus bush bushes busi busied busiest business bust bustled bustling busts bustthe busy busybody but butchers butler butlers butt butter buttoned buttons buy by bye byways c cab cabin cabina cabinet cable cabled cablegram cabman cabul cadaverous cairns calcu calculated calculations call called calling callous calls calm calmly cam cambridge cambridgeshire camden came camera camp campaign campden camped can canadian canal canary candelabra candidate candle candles cane canimagine canine canmr cannot canonly cant cantering canters cap capable capacities capacity cape caped capital capriciousthat captain captains captive capture captured car carafe caravan carcass card cardboard cardinal cards care cared career careful carefully careless carelessness carey careys caricature carlton carotid carpet carriage carriages carried carruthers carrutherss carry carrying carstairs carston carstondear cart cartridge cartridges carve carved carving cas case caseone cases casethat cashed casionally cast caste castle casts casual cat cataract catastro catastrophe catch catching cate cated cathcart catholic cation cattle catullus caught caunter cause caused causes caution cautious cautiously cavendish cavity ceal ceased ceeded ceiling ceipted ceivable ceive ceiving celebrities cell cen central centrating centre centric centuries century ception cer ceremony certain certained certainly certainty chaff chaffed chain chair chairholmes chairs chalk challenged chamber chambers chance chanced chancelleries chances chandler change changed changes changing chanic channel channels chap chapter char character characteristic characteristics characters charasiab charcoal charge charged charing charles charling charlington charm charmed charming charred chart chartersresearches charts chased chasing chasm chastened chat chatham chattering chatting cheap cheating check cheek cheeks cheer cheerful cheery chemical chemicals cheque cheques cherished chest chested chester chesterfield chestnuts chevron chicago chief child childish children childs chiltern chimed chimes chimneys chin chine chins chip chips chislehurst chiswick chivalrous choice chok choke choking choose chooses choosing chose chosen chronicle chronicles chubbs chuckle chuckled church churches cial cigar cigarette cigarettes cil cion cipher ciphers cir circle circles circulated circum circumlocution circumstances circus citizens city civilization civilly clad claim claimed claiming clang clap clapped claret clasp clasped clasping class classic classical classit clatter clattered claw clawed clawing clay cle clean cleaned cleaners clear cleared clearer clearing clearly clearness clenched clergyman clerical clerk clever cleverly cleverness click clicked client clients cliff climb climbed climbing climbs cling clining clinking clips clock close closed closely closer closing cloth clothes clothing clotted cloud clouded clouds cloven club clubbed clubs clue clues clump clumped clumps clumsily clung clutched co coachman coal coarse coast coat coathe coats coax coaxing cobwebs cock cocksure cocoa cocoanut code coffee coherent coil coincidence coins col cold colder coldly collapsed collar colleague collect collected collecting collection collections collector college colonel colonels colonial colonies colonnas colony colossal colour coloured colouring colourless column columns com combination come comeboth comely comer comes comfort comfortable comic coming command commanded commands commence commencement commend comment commented comments commercial commission commissioned commit commits committed common commonplace communicate communicated community compan companion companions company comparatively compare comparing comparison compartments compel compelled compete complacent complain complaint complete completed completely complex complexion complicated complication complications compo composed composition composure compressed compromise compunction comrade comrades comradeship con conan concave conceal concealed concealment conceivable conceivably conceived concentra concentrate concentrated concentration concern concerned concernedwe concerning concerns concise conclu concluded conclusion conclusions conclusive concocted concoction concussion condemned condition conditions condoned conducive conduct conducted conduit confeder confederacy confederate confederateand confess confessed confessing confession confidantmy confide confidence confidences confident confidential confidentially confined confirmed conflagration confronted confused congenial congrat congratulate congratulation conjecture conjectured conjurer conk connec connect connected connection connoisseur conscience conscious consciousness conse consent consented consequence consequences conservatory consid consider considera considerable considerably consideration considered considering consigned consist consisted consists consolation consoling conspiracy conspire consta constable constables constabulary construct constructed consult consultant consultations consulted consulting consume consumed consuming consumption contact contain contained containing contemplating contemplation contempt content contented contents contin continu continually continuation continue continued continuous continuously contracted contraction contrary contrast control conundrum convalescent conve convenience convenient conventional conversation conversing convey conveyed conveying conveys convict conviction convictioni convince convinced convincing convulsed convulsion convulsive convulsively cook cool coolly coolness cop copied copious copper coptic copy cor coram corams cord cords cork corn cornelius corner corners cornwall coroners corre correct correctly correspond correspondence correspondent correspondents corresponding corridor corridors corrobo corroborate corroborated corroborates corroborative cost costa costs cottage cottages couch couched coughing could couldhave couldnt coun counsel count countenance counter counterfeited counterfoil counterfoils countess counties countries country countryman countryside county couple courage course courses court courteous courtesy courting courtly courts courtyard cousin cousinnot coventry cover covered covering coverings cow coward cowardly cowered cowering cows crabbed crack cracked crackle crackled crackling craft crammed craned crash cravats craved crawled crawling crazed crazy creak creaked creaking creation creature creatures credit credited creditor creditors credulity creeping creole crept cretive crew cricket cried cries crime crimea crimean crimes criminal criminals crimson crisis crisp critical criticism croaking crocodile crocuses croker crook crooks crooksbury crop crosby cross crossed crossing crosspiece crouched crouching crowd crowded crown crowning cruel cruelty cruet crumbling crumbs crumpled crush crushed crushing cry crystal cu cubitt cubitts cuddled cudgel cue cuffs culminate culminated culpable culprit cultivated cumulative cun cunning cuous cup cupboard cupying cur cure curi curios curiosity curious curiousis curiously curlew curling currents curse cursed cursing curt curtain curtains curtly curve curved curving cused cushion custody custom customer cut cuta cution cutlets cutter cutting cuttings cy cycle cyclist cylinder cynical cyril d dabbled dacre dagger daily dainty dalbert damaged damning damp dan danc dance dancing dandled danger dangerous dangers dangling dapper dare dared daring dark darkening darkest darkness darted darting dashed date dates dateto dating daugh daughter daulat daw dawn dawson day daylight dayof days dazed de dead deadly deador deadtheres deal dealers dealing deals dealt dear death deaths deathtraces deavouring debt debutante decade decanter decanters decay deceased deceive deceived decemberfour decent deception deceptive deci decide decided decidedly decision decisive deck declare declared declares decoyed decrees deduction deductions deed deeds deedspossibly deep deepens deepest deeply deers def defeat defence defenders deference defiance defiant defiantly defiers definite definitely deformed deftly degger degree degrees dei deigning dejected dejection delay deli deliberate deliberately deliberation delicacy delicate delicately delicious delight delighted delirious delirium deliver delivered delusionswas demand demands demic demoniacal demonstration demonstrations demur demure demurely den dence dene denied denly dense dent dentation deny denying depart departed department departmental departs departure depen depend depends dependswell deplorable deplorably deplore depravity deprecation depressed deprived depth depths der derer dering derision derivatives derive dermic derstand derstanding descend descended descending describe described description deserted deserved deserves deserving design designs desire desired desires desiring desirous desk desolate despair despaired despatch despatched despatches desper desperate desperately destination destined destroy destroyed destroying destruc destructive detail detailed details detain detect detected detection detective detectives deter determination determine determined develop developed development developments develops device devices devil devilry devine devines devised devoid devote devoted devoting devoured dexterous dia diagrams dial diamond diamonds diary diate dictation did didi didnt die died dies differ difference different difficult difficulties difficulty diffidence digestion dignation dignified dignity dilemma dim dimly dimmed dine dinghy dingy dining dinner dinnerhe dint diplomas diplomatic direc direct directed directing direction directions directly dirty dis disadvantages disagreeable disap disappear disappearance disappearanceand disappeared disappearing disappointed disappointing disappointment disaster discern discharged disclose disclosed disclosing disclosures discolorations discolouration discoloured discomforts disconsolate discov discover discovered discovering discovery discreet discreetly discretion discs discuss discussed discussion disdain disease disfig disgrace disgraceful disguise disguised disguises disgust dish dishes dishevelled disincli dismay dismayed dismiss dismissal dismissed dismounted disorder disordered dispatched dispensary displaced displacement disposal disposed disposition disproved disregard disregarded dissipated dissipation dissolved dissuading distance distant distinct distinctions distinguish distinguished distorted distrac distracted distractedly distracts distrait distress distributed district disturb disturbance disturbed divided dividing divined division divulge dixon do doc dock docket doctor doctors document documents documentsbuilding dodge does dog dogged dogging dogmatic dogs doing doings dolor dom domestic dominant don doncaster done donehad dont dontmean doodle dook door doors doorstep doorsurprise doorway dore dorking dot doth dots dotted double doublea doublings doubt doubted doubtedly doubtful doubtgreat doubtless doubts dough doughy dour dovercourt dow down downfallnot downs downstairs dows doyle dozen dr drab drabs draft dragged dragging draghound draghounds dragon drain drained drama dramatic dramatist drank draped draught draw drawback drawer drawers drawing drawn draws dread dreadful dream dreamed dreamer dreaming dreams dreary dred dreds dregs drenching dress dressed dresshe dressing drew dribbling dried drift drifted drilled drills drink drinking drive driven driver driving dron drone droned droning droop drooped drooping drop dropped dropping drought drove drowned drug drugget drumming drunk drunkard drunken dry ducal duce duced duchess duchesss ducted due duel dueto dug duke dukes dukeswas dull duly dumb dummy dun dundee dunlop duns dupli duplicate duplicates dur during dusk dust dustand duster dusty dutch duties duty dwell dwelling dwellings dwindling dying e ea each eager eagerly eagerness eagle ear eared earl earlier early earn earned earnest earnestly earnestness ears earsa earth eas ease easier easily east eastern easy eat eaten eating eats eaves ec eccentric echoed ecstasy edge edged edges edifices edith edition editions edly edu eduardo educations ee effect effected effective effects effeminacy efficient effigy effort efforts eggs egypt eh ei eight eighteen eighteenth eightycram eign either ejaculated ejaculation ejec elaborate elapse elapsed elder elderly elec electric electrical electrician electricians electronic elegant element elemental eleven elicit elizabethan elms elri elriges else elsewhere elsie elsies em embarks embassies embassy embellish embers emblem emblems embodiment emerged emergency eminent eminently emotion emotional emotions emperor empire employ employe employed employer employment emporium empowered emptied empty en enabled enacted ence ences encetall enclosure encourage encourages encyclopaedia end endeav endeavour endeavoured endeavouring ended ending endless endorsed endowed ends endure endured ened enemies enemy energetic energy enfeebled enforcing engage engaged engagement engaging engines england english englishman engraved engrossed enigmatic enigmatical enjoy enjoyable enjoyed enlighten enliven enormity enormous enormously enough enraged ensue ensure ensured ent entail entangled enter entered entering enters enthusiastic entire entirely entirelyfruitless entrance entrances entries entry envelope envelopes epilogue episode episodein episodes epitome equal equally equanimity erable eral ere erect ered erence ern ernesse err errand erroneous error ers ersgood erwise ery es escape escaped escapes escaping escence escort escott especially ess essen essential essentialessential essentials est establish established establishing establishment estate estates estimable esting estrade etc eter eternal eton etour ety eu europe european eustace euston ev eva evas eve even evening eveninga eveningmistook evenings event eventful events eventthe ever every everyday everyone everything everywhere evi evidence evident evidently evil evoked ex exact exactly exactlyone exam examination examine examined examiners examining example exceedingly excel excellent except exception exceptions exchange exchanged exchanges excitable excite excited excitedly excitedwas excitement excites exciting exclaimed exclamation exclusion excur excursions excuse execution exercise exertion exhausted exhaustionpossibly exhibited exhibiting exhilaration exhortation exist existed existence existing exists exit exits exotic expanding expanse expect expectant expectation expectations expected expecting expedition expelled expenditure expense experience experienced experiences expert expire explain explained explana explanation explanations explicit exploit exploits explorations explored exploring explosion expose exposed exposing exposure expres express expressed expression expressive exquisite extended extending extent extracted extraordi extraordinarily extraordinary extreme extremely extremities exulta exultant exultantly exulted eye eyebrows eyed eyelashes eyelids eyes fa faber fabrication face facea facecrafty faced faces facing facsimile fact factcant factor factory facts faculties faculty fail failed failing failure failures faint fainted faintest faintly fair fairly faithful faithfully fall fallacy fallen falling falls false fam fame famil familiar families family familynothing famous fan fanatic fanatical fanciful fancy fang fanlight fantastic fantastically far farcical farewell farlane farm farmer farmers farming farnham farther fas fashion fashionable fashioned fast fasten fastened fastening faster fatal fate father fathers fatigue fault faulty favour favourable favoured favourite fea fear feared fearful fears feat feature featured features february fectionate fectly federacy federate feel feeling feelings feels feet fel fell felled fellow fellownothing fellows felons felony felt female fence ferment ferocity ferred ferrers ferret fess fession fessor fetch fetid fever few fewer fewminutes fi fiancee fiasco fice ficiently fidence fidget fidgeted fied field fields fiend fiendheaven fiendish fierce fiercely fiercer fifteen fifteenth fifty fig fight fighting figure figures files fill filled filling fills film fin final finally find finding finds fine fineness finer finesse finest finger fingers finish finished fire fired firedthe fireher firelight firemen fireplace firing firm firmed firmly firms first fisher fist fit fitness fits fitted fitting fittings five fiver fix fixe fixeand fixed flag flagged flags flagto flamed flames flannel flap flash flashed flashing flask flat flattened flaw flaxen fled fleet flesh flew flickering flier fliers flies flight flock flog flood floor flooring flopped florence florid flourishing flow flowed flower flowering flowers flowery fluffy flung flurried flush flushed flushing fly flying focus fog fogs foils fol fold folded foliage folk follow followed followers following follows folly foment fond food fool foolery foolish foolscap foot football footholds footman footmarks footpath footstep footsteps foppish for forbid forbidding forborne force forced forces forcibly forcing ford fore forearms forebodings forefinger foreground forehead foreign foremost forenoon foresaw foresee foreseen forest forged forger forgery forget forgetfulness forgive forgiven forgiveness forgot forgotten form formal formatted formed former formerly formidable formidableso forms fortescue forth forthwhich fortnight fortunate fortune forty forward forwards foul foulof found foundations founder four fournaye fourth fourthand foxhound fractured frag fragments fragrance frail frame framed framework france frank frankly frankness frantic frantically fraser fraserfor frayed fraying freakish free freely freemason freer fren french frenzy frequented frequently fresh freshed friction friend friendless friendly friends friendship friesland frieze fright frighten frightened frightening frightful fringe fringed fro frock from froman front frosty frou frown frozen frugal frustrated fugitives ful fulfilled full fully fumes furious furiously furnish furnished furniture furrow furrowed further furtive fury future g gables gaged gages gain gained gainer gaining gains gaitered gaiters gal gale gales gallant gallantry gallops gallows galoshes game games gamesort gameyou gang gangs gap gaps gar gard garden gardener garments garroter garrulous gas gash gasp gasped gate gatenow gates gateway gather gathered gathering gation gaunt gauze gave gaze gazed gelder gen general generally generate generosity genial genius genteel gentle gentleman gentlemans gentlemen gentlest gently gentry genuine geographical geon geons george ger german gerous gers gesticulation gesture gestures get getand gether gets getting ghastly ghost giants gibes gibraltar gift gigantic gilchrist gilchrists gild gill gineer ginning gipsies girl girlfor girls give given gives giving glad glade glanc glance glanced glances glare glared glaring glass glasses glasseswho glazedshe gle gleam gleamed gleaming gleams glected glid glided glimmer glimmering glimpse glimpses glish glitter glittering globe gloom gloomily gloomy glorious gloriously glory glossy glove gloved gloves glow glowed glowing glyphics go goal goatee god godfrey godfreys godol godolphin gods goers goes going gold golden goldfields golf gone gong good goodness goods goodwill gored gorse gossip got gothic gotiate gotten gout governess government governor gown grab grace graceful graces gracious grad gradually graham grain grains grand grandly grandparents grange granite granted granting grasp grasped grasping grass grate grateful gratimost grating gratitude gratulate grave gravely graver grays grazing greasy great greater greatest greatly greek green greenhouse greensward greeted grenoble gresham grew grey greys grief grieve grievous grim grime grimly grind grinding grinning grip gripped gripthat griz grizzled grizzly groan groaned groats groom groove grossly grotesque grotesquely ground grounds group grouped grove groves grow growing grown grows grudge gruff gruous guarantee guard guarded guess guessed guessednor guests guide guides guidly guilt guiltbut guiltless guilty guiltyif guineas gular gulped gun guns gurgle gust guttered h ha habit habits hack had hada hadthe haggard hailed hair haired hairless hairpin half halfway hall hallamshire halloa halt halted ham hammer hammersmith hamp hampstead hanced hand handcuffs handed hander handicap handiwork handker handkerchief handle handled handling hands handsome handsomely handwriting handy hang hanged hanging hangings hansom hap haphazard happen happened happenedaugust happens happiest happiness happy haps harassed hard harden harder harding hardly hardship hardworking hardy hargreave hark harker harkers harm harmless harmonium harp harpoon harpooner harpooners harpoons harshly harshness has hasnt hastened hastening hastily hasty hat hate hated hateful hatefuland hatred haughtily haul haunches haunted hausted hav have havent haveput having hayes hayesno hayess he head headache headed heading heads health healthier healthwell healthy hear heard hearing heart hearted hearthrug heartily heartit hearts heat heated heath heather heaven heavens heavily heaving heavy hecarried hector hed hedge heed heel heeled heels hei heidegger heideggers height heir held heldour hell hellhound help helped helpless helplessly hemight hempen hence henri henry heor her hera heraldic herder here hereby hereditary heres herr herring hers herself herselfand herselfso hes hesitate hesitated hesitation hethe hid hidden hide hideous hideously hiding hiero hieroglyphic hieroglyphics high higher highest highly highway hilarious hilda hill hills hillside hilton him himalayas himindeed himmr himsecret himself himselffor himselfso himwith hind hinder hinge hinged hinges hint his hisface hiskeen histon historian history hit hoarse hobbling hobby hobnobbed hold holdernesse holding holdings holds hole holiness hollow hollowed hollows holm holmes holmesand holmess holmesthat holmesyou holy homage home homea homely homeward homewards homicidal hon honest honesty honey honour honourable honourand honoured honours hood hoofs hook hooked hooliganism hop hope hoped hopeless hopes hopesin hoping hopkins hopkinss hopley horace horizon horn horrible horribly horrified horror horrorburst horse horses host hosts hot hotel hound hounds hour hourly hours house household householda housekeeper housekeepers housemaid housemr houses how however howeverhe howled hows html http hud hudson hudsons huge hugh hum human humans humble humorous humorously humour humouredly humours hun hundred hundreds hung hunger hungry hunt hunted hunters hunting huntsman hur hurdles huret hurled hurrah hurricane hurried hurriedly hurry hurrying hurryingin hurt hus husband husbands hush hushed hut huxtable huxtables hyams hypo hypothesis hysterics i iar ice iconoclast id idea ideas idence identified identify identifying identity idleness idling if ig ignominious ignorant ihad ihave iii iknew iknow ilies ill illegal illness illtreating illuminated illuminating illusion illustrate illustration illustrious ilook ily ilyi im imag image images imaginary imagination imagine imagined imagines imme immediate immediately immense immensely immersed imminent impatience impatiently impe impede impenetrable imperative imperfectly implied implore implored imploring impor importance important impose imposing impossibility impossible impound impres impress impressed impresses impression impressions impressive imprinted imprisonment improba improve improved improvement imprudent impudent impulse impulsive impunity in inaccessi inaccessible inaction inanition inated inates ination inca incessant incessantly inch inches inci incident incidenta incidentally incidents incidentthe incisive inclination inclinations inclined inclosed include included includes including inclusive incoherent income incon inconceiv inconceivable inconceivableimpossible inconclusive incouldnt increased increasedas increasing incredible incriminate indebted indecision indeed indefatigable indefinite independent independently indescribable indescribably index indi india indian indiana indians indicate indicated indication indications indifferent indignation indirect indirectly indis indiscreet indiscretion indistinct individual individuals indolent induce induced inductive indulgently industrious ine inefficient inestimable inet inevitable inexcusable inexhaustible inexorable inexplicable infal infer inference inferences infernal infinite infinitely inflexible inflict inflicted inflicting influence influenced influences inform informa information informed ing ingenious ingenuity inglo ingratiating ings inhabit inhabitants inhabited inhaling inherit inheritance inhospitable inhuman initely initials injudicious injudiciously injure injured injuries injury injustice inkling inmates inn innate inner innocence innocent inns innumer inoffen inqueer inquest inquire inquired inquiries inquiring inquiry insane insanely inscribed inscription inscrutable insensible inserted inside insignificant insincere insincerity insist insisted insistent insisting insolence insolent inspec inspect inspected inspection inspector inspectors instan instance instant instantaneous instantly instead instinct instincts institution instruc instruct instructed instructions instructive instrument instruments insufferable insult intact intake intellects intellectual intelligence intelligent intend intended intending intense intensely intensified intensity intent intention intently inter interest interested interesting interests interfere interference interior intermittent international internationals interrupted interruptions intersected interval interview interviewed interviews intimacy intimate intimated intimation into intothe intri intricate intrigue intrinsically intro introduce introduced introduction introspective intrude intruded intruder intruding intrusion invaders invalid invent invented inverse inves invest investi investigate investigated investigating investigation investigations invigorat invisible invitation invite invoke involuntarily involve involved inward ion ionides ious irksome iron ironical irregular irregularity irrelevant irrepara irreparable irrepressible irresolute is isa isborne ish ished ishment isimpossible islander isnt issomething issuch issue issued istersthat isto isyears it italian italians itand itas ities itif iting itjust itof iton its itself itto ity ive ivory ivy ized j jabez jack jackal jacket jacobs jagged jail jailonce james jamess january japanese jaw jay jealous jealousy ject jects jemmy jeremy jerking jewel jews jingo job jobs johan johann johannesburg john johnson joice join joined joint joke joker joking jonas josiah jotted journal journalist journalistic journey journeys jove jovial jowaki joy joyous jubilee judge judging judgment judicial judicious july jump jumper jumping june jungle junior juries jury just justi justice justifiable justified justify justly k keen keener keenest keenly keenness keep keeper keeping keeps ken kennedy kennington kensing kensington kent kentish kept kerb key keyed keyhole keys khalifa khartoum kick kicked kid kidnap kidnapped kill killed killing kills kimberley kin kind kindly kindness king kings kins kissed kit kitchen kled knee kneel kneeled kneeling knees knew knewthat knickerbockers knife knifed knitted knives knivesall knobs knock knocked knocking knocks knot knots knotted know knowand knowing knowl knowledge knowmay known knownothing knows knuckles l la laboratory laborious labourer laburnum lacehe lack lackey lad lada ladies lads lady ladyin ladys ladyship ladyships laid lain lainy lamb lamentable lamented lamp lamps lan lancashire lancaster land landed landheaven landing landlady landladys landlord landlords landmarks landscape landsman landsmen lane lanes language languid languidly lank lantern lanterns lap lapse lar larceny large larger largest larly lashed lashes last latch late later latest lath lation latter lattice latticed lauder laugh laughed laughing laughter launched laurel laurels law lawn laws lawyer lay laying lazily lead leaden leader leading leads leaf league leaned leaning learn learned learning learns lease leases leash least leather leave leaves leaving lected lecture lecturer led ledge ledger lee leech left lefthere leg legal legged legion legitimate legs leisure leisurely lem lemon lence lend lends length lengthy lenient lens lent leslie less lessly lesson lest lestrade lestrades let leton lets letter letterfor lettering letters lettersimprudent letterthis letting level lever leverstoke levying lewisham lexington ley lhassa liberally liberties liberty libly libraries library lic lice license lichen lick licked lid lids lie lied liedsaid lier lies lieutenant lieve life lifethat lifetime light lighted lightened lighting lightly lights lightwhich like liked likely likes liking limb limbs lime limit limited limits limped line lineament lineand lined linen lines lington linguist link linked links lion lionwitness lip lipped lips lis list listen listened listening listless lists lit literally literary lithe litter littered little live lived liverpool lives living llama loaded loafers loathe loathed loathes local locally lock locked locking locks lodg lodge lodged lodgers lodgings log logical logs loitered loiterers lon london lonely lonesome long longed longer longitudinal longnot look looked looking looks loose loosebut loosened looseno lop lord lose loser loss losses lost lot loud louder loudly love loved lovely lover lovers loves loving lovingall low lowed lower lows loyal lu lucas lucass lucidity luck lucky lucretia lukes lumber luminous lump lunacy lunatic lunch luncheon lunching lurched lurk lurked lurking lurks lute lution luxurious ly lying lyingin m ma machine machinery mack mackleton macpherson mad madam maddening made madly madman madness madrid mafia mag magistrate magnificent magnificently magnifying magnum maid maidhad maids main mained mainsstand majestic majestys majoritywere mak make makers makes making malicious malig malignant mall malodorous maltreated man manacled manage managed management manager mancevery manchester manded mane manhood mania manly manner mannered manners manoeuvred manor mans mansion mansquare manstooped mantel mantelpiece mantle manufac manufactured manuscript manuscripts manwell many map maps mar marauding marble march marengo margate margin maritime mark markable marked marker market marking markings marks marksmans marred marriage marriagea married marrow marry marrying marshalled marsham marshes martial martin marvellous mary marymary marys mas masculine mask masked masks masonry mass masses massive master mastered masterful masters mat match matches mate material mathematical mathews matted matter mattera mattered matters matting mattingand maturing maw may maybe maynooth mc mcfar mcfarlane mcfarlanes mclaren me mea meal meals mean meand meaning means meant meantime meanwhile measles measured measuring mecca mechanic mechanism mediaeval mediately medical medicine meditative medium meet meeting meetings meets mei melancholy mem member members membership memorable memoranda memories memory men menacing menage mense mensely menshould ment mental mention mentioned ments menwhich mer merchant merchantablity merchants mercy mere merely meretricious merits merri merridew merriment merrow merry mersmith message messages messenger met metal metallic meth method methodical methodically methods meto meunier mews mid midday middle midland midlands midnight midst midway mier might mightvery mighty mil mild mile miles military milk million millionaire millions milner milverton milvertons min mincing mind minds mine mined minerals mines mingled minimize minis minister ministers minor minster minute minutely minuteone minutes mirable mire mirer miry mis misadventures miscalculated mischief mischievous miser misery misfortune mishandled misjudged miss missed misshapen missing missingespecially mission mist mistake mistaken mistaking mister mistress mistresss mitigating mitted mitton mixed mixture mme mo moat mobile mock mod model moderate modern modest modifies moisten moistening molehills molesey molest molested molests moment momentous moments mon monasteries monday money moneywho mono monogram monograph monomaniac monplace monsieur monster monstrate monstrous month months montpelier monumental mood moods moon moonlight moor moorhouse moors moped mor moral morally moran morans moranshowed morass morbid more moreeh morgan mori moriarty moriartys morn morning mornings morningtwo morningwell morningyou morose morrow morrows morrowtheres morse mortgages mortification mortifying mortimer morton mortuary moss mossy most mother motherly mothers motioned motioning motionless motive motives mottled mould mouldering moulding moulds mount mountains mounted mour mournfully mous mouse moustache moustached mouth mouthed mouthful move moved movement movements moving mr mrs ms much muchonly mud muddy muffled multiplex mur murder murdera murdered murderer murderers murdering murderous murders murderstopped murillo murky murmured murmuredit murmuring murray muscle muscles museum mushroomed music musical musician must mustnt mute mutilated muttered muttering mutual muzzle my mycroft myman myself mysteries mysterious mystery mystification n nab nailed nails naive naked nal nally name named nameelsie namehis nameless names nant naples napoleon napoleonic napoleons napped nar narrative narratives narrow narrowed narrowly nary nate nation native natural naturally nature naturedly natures nay naye ne near nearer nearest nearing nearly neat neces necessaries necessarily necessary necessity neck neckcloth necktie necktiethe nect nected need needed neededby needs neer negative neglect nei neigh neighbourhood neighbouring neighbours neither neligan nephew ner nerve nerves nervous nervously nervousness nesburg ness nessed nestled nests net nettled network neutralized never new newcomer newly news newspapers next nez nice nickel nicotine niece nient nificent nig niggardly night nighta nightfall nights nightwe nihilist nine ning ningly nington nister nited nn no nobility noble nobleman noblemans noblest nobody nobodys nocturnal nodded noise noiseless noiselessly nonchalant none nonenot noon noose nor norfolk north northern norway norwayill norwegian norwich norwood nos nose nosed noses nosethat nostrils not notable notches note noted notes noteworthy noth nothing nothingnothing notice noticeable noticed noting notion notori notoriety notorious notpropose notuse nouse novel november novo now nowadays nowhere nowprobably nowwithin nuisance num number numbers numbervery numerical numerous nurse nursed nuts o oak oaken oakington oaks oaths ob obedience oberstein object objected objects oblige obliged obliging obliterated obscure obscurities observant observation observations observe observed observer observes obstinate obtain obtained obtaining obtuse obvious obviously oc occa occasion occasional occasionally occasions occupants occupation occupied occupies occupy occur occurred occurrence occurs ocean oclock odd odds odious ods of off offashamed offence offensive offer offered offi office officer officers offices official officials ofheavy often ofwealth oh old oldacre oldacres older oldest omit omitted on once ond one oneand oner ones onethat only onwards opalescent open opened opening opens opento opera operate operating operation operations opinion opinions opponent opportunities opportunity opposite optician opticians option opus or orandum orchestra ordained order ordered orders ordi ordinary ordnance ore organic oriental origin original originally orphan ory oscar ostler oth other otherif others othersthe otherwise ough oughly ought ounce our ourable ouring ours ourselves ourselvesa ourvery ous ously out outcasts outcome outer outhouse outhousehe outline outrage outrageto outset outside outspoken outstretched over overbearing overboard overcoat overcoats overcome overflowed overhung overi overjoyed overlook overlooked overlooking overlooks overmastering overpower overpowered overpowering overso overtake overtaken overton overtons overtook overwhelmed overwhelmingly overwrought ow owe owed own owned owner ownerand owning owns oxford p pa pable pace paced pacific pacing pack packed packet packets pad padre page pages paid pain painful painless pains paint pair pal pale paled paler palimpsest pall palladio pallor palm palmer palmers palpitating pals panama pane paned panel panelled panelling panion panting pantry pany paper papers par paragraph parallel paralyzing pardon pared parents paris parish parisian park parker parlia parlour paroxysm parsley parson part parted particu particular particularly particulars parties partition partly partner partners partnership parts party pas pass passage passages passagesteps passed passenger passers passes passing passion passionate past paste pat patch patched patches paternity path paths pathway pathy patience patient patients patrick patriotism patted pattins paulo pause paused pavement pavements pay payments pays peace peaceful peak peal pearance pearances peared pearl peas peasant peat peaty pebble pect pected pecting peculiar peculiarities peculiarly pecunious ped pedal pedals pedestal pedestalled pedigree peep peeped peered peering peg pegs pellet pen penal penalty pencil pencils pened penetrated penetrating penitent penknife penniless penny pennynot pensable pensioneran people peoples peppery per perament perceive perceived perceiving perceptible pered perempto perfect perfectly perfectto perfor performance performer performing performs perhaps peril perilous period periods permanent permanently permissible permission permit permitted perpetrator perpetual pers perse perseverance persia persian persis persisted person personal personality personally persons persuasion pert pet peter peters petite petri petroleum petty pey ph phabet phe phenomenon phering phial philosopher philosophic phin photograph photographs phrases physical picion pick picked picking pickwicks picture pictured pictures picturesque piece pieces pierc pierced pietro pietros pig pil pile piled piles piling pillared pin pince ping pinion pink pinned pioneer pioneers pipe pippin pistol pit pitch piteous pith pitiable pities pitiful pitt pity place placed places placethat plague plain plainest plainly plan planation planet planking plans plant plantation plants plaster plastered plate plated plates platform play played player playing plays ple pleaded pleasant pleasantry please pleased pleasure pleasures pled pledge pledged plentifully plenty plete plethoric plexed plies plight plot plover plucked plum plumage plumb plumber plump plunder plunge plunged plural po pocket pocketed pockets point pointed pointing points poise poison poisoner poisonous poker poking pole police policeman policemen policy polished polite politeness political politicians politics pom pomp pompey pompous pond pondered ponderous pony pool poor poorer poorly popedown popped popular population populi por port portant porter porticoed portiere portion portrait pos pose posed posi position positive possess possessed possesses possessing possession possi possibili possibilities possibility possible possibly possiblyi post posting postponed postscript posure poten potentate potentatewas pots pouch pouches pound pounds poured pouring poverty pow powder power powerful powers prac practical practically practice practices practised practising practitioner praise prank pray prayed prayer prayers praying pre precaution precautions preceded precedes precious precipitate precipitous precise precision precursor predecessor predispose predom prefer preference prefers prelude premature premier premiers premises prepara preparations preparatory prepare prepared preparing preponderance pres prescribe prescription presence present presented presentin presently presentment presents preserve preserved president press pressed pressing pressive pressure presumably presume presumed presuming pretence pretend pretext pretty prevent prevented preventing previous prey pri price prick pricked pride prim prime primness prince princely princess principal principally pringle print printed printer printers priory pris prised prisoner prisonerhad prisoners privacy private privately privet privilege prize pro proached prob probable probably probablylead problem problems proceed proceeding proceedings proceeds process procession proclaimed procure produce produced producing product production productions profes professed profession professional professions professor professorit professors proficiency profile profiles profit profitable profitably profiting profound profoundly profusion progress prohibition projec projected projecting prominent promis promiscuous promise promised promises promisethat promising promoted prompt prompted prompting pronounce pronounced proof proofs proper property proportion proposal propose proposed propped proprieties prosecution prospect prosperity prostrate prostrated prostration protect protection protest protested protruded proud prove proved proves provide provided providential provincial provocation provocative provoking pry psychologists pub publi public publican publicans publication publicity publish published puck puckered pudding puffing puffs puffy pull pulled pulse pumpkin punctually pungent punished punishment punt pupil puppets purchase purchased pure purely puritana purpose purposeful purposeless purposes purred purse pursued pursuer pursuers pursuing pursuit purveyor push pushed pushing put puts putting putty puz puzzle puzzled puzzling pyramid pyramidal pyramids quadran quadrangle quainted qualities quality quan quar quarrel quarreled quarrelled quarter quarters queenly queer queerer queerest quence quences querulous ques quest question questioned questioning questions quick quicker quickly quicksand quiet quietly quill quire quit quite quitted quiver quivered quivering quoted quoting r rabbit rabbits race racer rack racked rackeven racy radiant radius rage ragged rail railing railings railway rain rained raining rainy raise raised raises raising rake raking rakish rallied ralph ramble rambles ramifications ran randall randalls random randownstairs rang rangement ranging rankled ranks ransack ransom rapid rapidity rapidly rare ras rascal rascals rasped rat ratcliff rate rated rates rather ration rative ratives rattle rattled ravaged raving razor razorshad rd re rea reach reached reaches reaching react read reader readers readily reading ready real realization realize realized really reallydone realms reappear reappearance reappeared rear reared reason reasonable reasonably reasoning reasons reassured reassuring recall recapitu recapitulated receive received receives receiving recent recently recess reckless reckoning reclining recognise recognised recognising recollect recollection recommend recommended reconcile reconstruct reconstruction record recorded records recounted recounting recourse recov recover recovered recovering recovery rect red reddish reduced reek reeking ref refer reference references referred referring refers refinement reflect reflected reflection reformersrevolutionistsnihilists refreshment refuge refuges refusal refuse refused refusesto regain regaining regal regard regarding regards regent region regions register registry regret regular reichenbach reins rejoice rejoiced rejoicing relapsed relate related relating relation relations relative relativehis relatives relaxed release released releasing reli reliable relic relics relief relieved religion reluctance reluctant rely relying remain remained remaining remains remark remarkable remarkably remarked remarks reme remedied remem remember remembered remembering remembers remind remiss remonstrances remorse remounted remove removed removing render rendering repair reparation repassed repeat repeated repeating repentant repetitions replace replaced reply report reported reports represen represent representation represented representing represents repro reproach reproached reproaching reprobate reproduced reproduction repu republicans repulsion repulsive reputa reputation reputations request requested require requires rescue rescued research researches resent resented reserva reserve reserved residence resident residing resignation resigned resis resistance resolution resolve resolved resources respect respectable respected respectively respects respon response responsibility responsible rest restaurant rested resting restless restlessness restore restored restrain restraining rests result results resume resumed retail retailer retailers retain retained retary retention reticence retired retires retiring retraced retreat retreated retreating retriev retriever return returned returning returns reuben reveal revealed revealing revenge revengeful reverberated reverence reverently reveries reverse reversed revolver reward rewarded rhodesia rhodesian riage rial riarty ribbon ribbons rible ribston rica rich richer richest rid ride rider riding ridling ried ries rifle rifled right righted rightjust rigid rigidity rily rim rimmed ring rings rious riously ripe rise risen rises rising risk rities rival rived river riverside rivet riveted road roads roamed roams roared roaring rob robbers robbery roboration rock rocks rocky rode rogues roll rolled rolling romp ronald roof roofed room roomed roomone rooms roomsthe roost root roots rope ropean ropeeach rose rothiere rotten rotund rough roughening roughly round rounded rouse roused route routine row rows ru rubbed rubber rubbing ruddy rude rue ruffian ruffians ruffled rugby rugged rugger rugs ruin ruined rule rules rum rummaged rummaging rumour rumoured rumours rumpled run rung runners running runs ruption rush rushed rushing russell russet russia russian russo rustic rustle ruston rusty ruthers s sacked sacrilege sad saddle safe safely safes safety saffron sagacity sage said saidthat sailed sailing sailor sailors sake sale sales sallow salt saltire saltirea saltires saluted salver same sample san sand sande sandeford sandwiches sandy sang sanity sank sardonic sary sash sat sation sational satisfaction satisfactory satisfied satisfy saturated saturday saunders savage savagely save saved savehimyou saving savoury saw sawdust sawthe saxon say saying says saythat scale scales scandal scandals scantily scare scared scars scattered scended scene scenery scent schem scheme schemes scholar scholarship school schoolmaster schoolnot scien science scientific scientist scintillating score scored scot scotland scouting scrambled scrap scraping scratch scratched scratches scrawl scrawled scream screama screamed screaming screams screen screw scribbled scribers scrip scription scrum scruple scrupulously scrutinized scrutiny scuffle scullery sculp sculptor se sea seal sealed sealer sealing seals seaman seamed seaport search searched searcher searching seas season seat seated seating sebastian sec secluded second seconds secrecy secret secretary secretaryit secretarys secretive secrets sections secu secure secured securely securing securities sedative sedentary see seedy seeing seek seeking seem seemed seems seen seenthe sees seized seizes seizing sel seldom select selection self selfish selfishness sell seller selves semi sen send sender sends senior sensa sensation sensational sense senseless senses sensible sensitive sensualist sent sentence sentences sentiment sentinel separate separated separation sequel sequence sequent sequin ser serenely sergius series serious seriously serpents serted servant servants serve served serves service services servitude sess sessionsnotably set sets settee setting settle settled settles settling sev seven seventeen sever several severance severe severely severity sex shabby shad shade shadow shadowed shadows shaggy shake shaken shaking shall shallow shame shamefully shape shaped shapes shard shards share shared shares sharing sharp sharpen sharpened sharpest sharply sharpness shattered shaven shaw she sheaf sheath shed sheep sheer sheet sheets shelf shelter sheltering shelves sher sherlock sherpur shes shethe shetland shield shielded shifted shifty shikari shikaris shilling shillings shine shines shingle shining ship shipping ships shirt shiver shivered shivering shock shocking shod shodold shoe shoes shone shook shoot shooting shop short shorter shortly shot shots should shouldbreak shoulder shouldered shoulders shouldnt shout shouted shoved show showed showing shown shows shrank shreds shrill shrilly shrinking shrouded shrubbery shrubs shrug shrugged shrunk shuddered shuffled shut shutters si siberia sibilant sible sibly sickness side sideboard sidelights sidelong sides sideways sidled sift sigerson sigh sighed sight sighted sights sightseers sign signals signed significance signifies signs silence silenced silent silhouette silhouettes silk sill sills silver silvery sim simian similar similarity simple simpler simplest simplicity simplify simply sin since sinewy single singleton singu singular singularly sinister sinking sion sions sionsno sir sira sirat sister sists sit sitting situa situated situation sive sively six sixnapoleons sixteen sixty size sized sizes skeleton sketch sketches skilful skill skin skinand skinthe skipper skippered skirts skulking skull sky sl slam slammed slane slaney slanting slapped slapping slate slater slatternly slaughter slave sleep sleeper sleeping sleepless sleeps sleepy sleeve sleeves slept slight slightest slim slinging slink slinking slip slipped slippered slipping slips slit slithery slits slobbered slogging slope sloping slow slowed slowly slunk slur sly smack small smaller smallest smashed smeared smears smell smelled smelt smile smiled smiling smith smiths smithy smoke smoked smoker smoking smooth smoothed smoothing smoul smouldered smudge snap snapped snarl snatch snatched snatches snatching sneer snick sniff sniffed so soaked soames soamesat soamess soamesthey sobbing sober sobs social society socks sodden sofa soft soften softer softly soil sojourn sold soldier sole soled solemn solemnize solicitor solid solidity solitary solitude solute solution solve solved some somebody somehow someone someones something sometimes somewhat somewhere soms son soning sonorous sons sonvery soon sooner soothe soothing sor sorcerer sorely sorrow sorry sors sort sorts sought soul souls sound sounded soundest sounds source south southampton southerly sovereign space spanned spare spasm spatulate spe speak speakers speaking speaks spear special specialist specially specialty specimen specimens specimensgreat specks spectacles spector speculation speech speechless speed speedily speeding speedy spells spend spending spent sphere spider spies spike spikes spill spir spirit spirited spirits spirituality spite spitting splash splashed splashing splendid splendidly splinter splintered splintering spoilt spoke spokei spoken spondent spontaneous sport sporting sportsman spot spots spotted spottedwith sprained sprang spread spreading sprightly sprightlyvery spring springing springy sprint sprinting sprints sprung spun spurt spy spying squalid square squareness squares squat squatted squeal squeeze squire squirrel st stab stabbed stabbing stable stables stack stacked stacks staff stage stagger staggered stagnant stain stained stains stair staircase stairs stake stakes stale stall stalwart stamford stammer stamp stamped stamping stan stances stand standing stands standstill stanley stant stare stared staring stars start started starter starting startled startling state stated stately statement states statesman statesmen station stationers stations statues stature staunch staunton stauntons stauntonyouve stay stayed staying stead steadi steady steal stealthily stealthy steam steamers steaming steamship steel step stepney stepped stepping steps stern sternly stevens stevenson stewart stick stiff still stillness stimulus stirred stirring stock stockholders stole stolen stolid stone stonemason stones stonily stood stool stooped stooping stop stopped stopping store stored stores stories storm storms stormy story stout straggling straight straightened strained strains strand stranded strange stranger strangers stratagem straw stray streaked streaks stream streaming street streets strength strengthen strenuous stress stretch stretched stretches strewn stricken strict strictly stride striding strike strikes striking string stringent strip stripes strips striv strode stroke stroll strolled strong strongand strongest strongly strongs struck struggle struggled stub stuck studded student studenta students studied studies study stuff stuffed stupid stupidity suave suavely sub subdued subject subjected subjects submerged submit submitted subsequent substantial subtle suburb suburban suc succeed succeeded success successes successesa successful succession such sud sudden suddenly suddenness suez suf suffer suffered suffering sufferings suffice sufficient sufficiently suggest suggested suggestion suggestions suggestive suggests suicide suit suitable suitor suits sulky sullen sulted sum summer summon summoned summons sumner sumptuous sums sun sunburned sunday sunk sunlight suns sunshine sup superficial superintendent superior superiors supervision supper supple supplement supplemented supplication supplied supply supplying support suppose supposed supposing supposition suppressed suppression supremacy supreme sur sure surely surface surgeon surgeons surgery surmised surmounted surplice surprise surprised surprises surrey surrounded surrounding surroundings survey surveying sus susan suspect suspected suspense suspi suspicion suspicions suspicious sussex sustained swagger swaggered swan swarmed swarthy swayed swear swearand swearing swears sweep sweeter sweetheart swelled swelling swelter swept swer swift swiftly swilled swimming swims swindle swing swinging swirled switch switzerland swollen swore sworn swung sydenham sym symbol symbols symp sympathetic sympathies sympathy syndicate syria syringe sys system systematic t table tablea tables tache taciturn tackling tact tail tailor tain tainly tains tak take taken takes taking tale talents talk talked talking talks tall taller tampered tampering tan tance taneous tangle tangled tankerville tant tantalus tap tape tapestry tapped tar target tarlton task taste tastes tate tatedand tation tative taught tax taxed taxes tea teach teacher team tear tears technically ted teeth telegram telegrams telegraph telegraphic tell teller telling tells telpiece tem temper tempestuous temple tempt temptation tempting temptingterms ten tenacious tenacity tenant tenanted tenants tend tenderness tends tene tened tenner tennis tenors tense tent tention tentions tentness tents ter terday tere tered terest term termina termination terms ternoon terpiece terprising terrace terrible terribly terror terrornot ters tersected test tested testimonials testing tethered teu text th thames than thank thankful thanks that thatbut thatched thateh thathe thati thats thawed the theabbey theadventure theatre theatrical thebicycle thedoor theft thefts thehands thehunter their theirs them themin themselves then thence theories theorize theory theothers thepaper thepath thepolice ther there therefore therepatrick theres theresa these thesea they theyre theyve thick thief thieves thigh thin thing things think thinkand thinker thinking thinks thinner third thirds thirsty thirteen thirty this thisroad thither thodical thong thor thorneycroft thoroughfare thoroughly thorpe thorpemanor those thou though thought thoughtful thoughtfully thoughts thousand thread threadbare threaded threads thready threaten threatened threatening threats three threetwo threshold threw thrill thrilled thrilling throat throats throng through througha throw throwing thrown throws thrust ththat thucydides thud thumb thursday thurston thus thy tial tiara tibet tical tice ticked ticket tickled ticks ticular ticularly ticulars tidiness tidy tidying tie tied ties tific tiful tigate tigation tiger tigers tight tightened tighter tightly til tiled till tim timber time timed timeeh times tin tinder tinent ting tinge tinged tingling tinkle tinted tinue tinuous tiny tion tional tioned tions tip tipped tips tiptoe tired tirely title tity tive tives tle tled tleman tlemen tlest tling tly to tobacco tobaccoall tocome tocratic toes together toilet token told tolerably tom tomed toms ton tone tongs tongue tonic too took tool tools toothere top topped tor tore torment torn torrent torrington tors tortures tory toscaan tossed tossing tot totally totteredi touch touched touches towards towarn towell tower towered towers town towns trace traced traces tracing track tracked trackers tracking tracks tract trade tragedy tragic trail trailer trailing train trained trainer training trainquarter trains traitor tral tralian tramp trampled trance transactions transfer transfix transfixed translation transpired traordinary trap travel travelled travelling traversed tray treach treacherous tread treasure treasured treasury treat treated treatise treatment tred tree trees trelawney trembled trembling tremely tremendous tremendously tremor tremors trial tric trick trickled tricks tried tries trifle trifling trigger trim trinity trip triumph triumphant triumphantly trivial trod trodden troduced trophy tropical trou trouble troubled troubles troublessome troubling trouser trousers trove truculent trudge true trumpington truncated trunk trusion trust trusted trusting trusty truth truthful try trying tube tucked tudor tuesday tufted tufts tugging tumble tumultuous tunbridge ture turers tures turf turn turned turning turns tut tutor tutors tweed tween twelve twenty twi twice twilight twin twinkle twinkling twisted twitching twitchings two twoinquir type typewriter typewriting tyre tyred tyres ually ued uglier ugly ulate ulti umbrella ument uments un unable unaccountable unarmed unavoidable unaware unbalanced unceremonious unchanged unclasped unclasping uncle uncomfortable unconditional unconscious unconsciously uncontrollable uncourteous uncovered undecided under undergo underneath underside understand understands understood undertake undertaken undertakers undertaking undetected undone undoubt undoubted undoubtedly uneasiness uneasy unecclesiastical unemotional unemployed unerring unexpected unexplained unexplored unfair unfamiliar unfastened unfolded unfolding unfortu unfortunate unfortunately unfrocked unfurnished ungenerous ungloved ungracious unguarded unhappily unhappiness unhappy unheard uni unicorn uniform uniformed uninteresting unique unite united universities university universityi unjust unjustifiable unkempt unkind unknown unless unlikely unlock unlocked unmarried unmixed unnatural unnecessarily unnecessary unob unobtrusive unofficial unpardonable unpleasant unprincipled unquestionably unreasonable unreasoning unresponsive unrivalled unrolling unromantic unsatisfied unscrupulous unseen unselfish unshaven unsightly unstained unsuccessful unsullied untenanted unthinkable untidiness untidy until untimely untiring untouched untoward unturned unusual unusuals unwelcome unwonted unworldly up upon upper uppermost uppingham upraised upright upset upstairs upturned upward upwards urday ure ured urge urgency urgent urgently us usage use used useful useless uses ushered using usual usually usualthats ut utes utmost utter uttered uttering utterly v vacancies vacant vague vaguely vain vaincolonel vale valet valets valu valuable valuables valuablewhich value valued van vanish vanished vantages vants variable variants varied variety various varnish varsity varying vast vate vehicle veil veined veloped velopments velvet venerable vengeance venomous venture ventured ventures venucci veranda verdict verge verified verify verner versed version versity verton very vessel vestigation vibrated vibrating vic vicar vice vices vicinity vicious victim victimand victims victory view viewed views vigil vigorous vigour vil vile vilest villa village villagers villages villain villainous villainy vinced vincent vindictive vinegar vintage violence violent violently violet violin vious virile virtuous virulent vis visible visibly vision visit visited visiting visitor visitors visitorsa visits vitality vivid voice voices voking volcano volley volume volumes voluntar voluntary volunteered volved von vous vox voyage voyages voyageshe vulsed wa wager wages wail waist waistcoat wait waited waiting waits wake wakened waking wales walk walked walking walks wall walled walls walsham wander waning want wanted wanting wanton wants war ward wardly wardrobe wares warm warmly warmth warn warned warning warp warrant warranties warranty wary was washad washed wasit wasnt waste wasted wasthe wasting wat watch watched watchers watching water waterbeach watercourse watering waterloo waterproof waters watson watsonabduction watsonall watsonhe watsonher watsonmental watsons wav wave waved wax waxed waxen way ways wayside we weak weakness weald wealth wealthiest wealthy weaned weapon weapons wear wearer wearied wearily wearing weary weather weaving web wedded wedding wedged wednesday week weeki weeks weigh weight weird weknow wel welcome well wells welted went were west western westminster westward wet weve whale whaler what whatever whats wheel wheeled wheeler wheels whelmed when whence where whereabouts whereas wherever whether which whichwas whiff while whilst whim whimper whimsical whine whined whip whipped whirl whirling whis whisk whisked whiskers whisky whisper whispered whispers whist whistle whistled white whitehall whiter whitewashed whiz who whoever whole wholesale wholly whom whos whose why wicked wickedness wide widens widespread widow widower wife wifes wild wilder wilderness wilders wildly wildness wile wilful will williamson williamsons willing willingly willoughby wilson win winced wind windings window windowed windows winds windscreamed wine wing winner winning winnings winter winters wiped wire wired wires wiring wise wisely wiser wish wished wishes wishing wit with withdraw withdrawn withdrew wither withered withheld within without witness witnessed witnesses wits witted wizard wizened woke wolf woman womanly womans women won wonder wonderful wonderfully wont wood wooden woodley woodleys woodmans woods woodwork wor word wordnever words wore work worked workers working workman workmanlike workone workpeople works workthat world worlds worn worried worrying worse worseand worsewhich worship worst worth worthy would wouldi wouldnt wound wounded wounds woven wreck wreckage wrenched wrestling wretched wriggle wright wring wrings wrist wrists write writer writhing writing writinghere writings written wrong wrongill wrongits wrote wrought wrung yacht yard yards yarn yarned yawns year years yell yelled yellow yellthe yes yester yesterday yesterdays yesterdaythat yet yetand yethe yetthough yetwell yetwhat yew yielded yieldedas yieldedto yonder york you youd youexplain youi youll youmake young younger youngest youngster your youre yours yourself yourselves youth youthful youve youwill youyou yox yoxley zealous zenith zest zied zled zoo'"
            ],
            "application/vnd.google.colaboratory.intrinsic+json": {
              "type": "string"
            }
          },
          "metadata": {},
          "execution_count": 4
        }
      ]
    },
    {
      "cell_type": "markdown",
      "metadata": {
        "id": "OyPJIPWrNScj"
      },
      "source": [
        "### Lets define our special tokens:"
      ]
    },
    {
      "cell_type": "code",
      "execution_count": 5,
      "metadata": {
        "id": "1FPgsCB0NScj"
      },
      "outputs": [],
      "source": [
        "start_token = '[S]'\n",
        "end_token = '[EOS]'\n",
        "unknown_token = '[UNK]'\n",
        "pad_token = '[PAD]'  # Add the PAD token"
      ]
    },
    {
      "cell_type": "markdown",
      "metadata": {
        "id": "bo7kcp8INSck"
      },
      "source": [
        "### Our tokenizer will need a function that tokenizes the inputs given to it. So lets build our tokenizer function:"
      ]
    },
    {
      "cell_type": "code",
      "execution_count": 6,
      "metadata": {
        "id": "zd_x-3mHNScl"
      },
      "outputs": [],
      "source": [
        "def tokenize(text):\n",
        "    # Use regular expression to separate words from periods and commas\n",
        "    return re.findall(r\"[\\w']+|[.,!?]\", text.lower())"
      ]
    },
    {
      "cell_type": "code",
      "execution_count": 8,
      "metadata": {
        "colab": {
          "base_uri": "https://localhost:8080/"
        },
        "id": "FGSwpaW_NScl",
        "outputId": "5229b7e4-7231-4fea-8fef-3a5ebbc1f089"
      },
      "outputs": [
        {
          "output_type": "stream",
          "name": "stdout",
          "text": [
            "['this', 'is', 'a', 'text', 'of', 'our', 'tokenizer', '.']\n"
          ]
        }
      ],
      "source": [
        "text = \"This is a text of our tokenizer.\"\n",
        "\n",
        "tokenized_text = tokenize(text)\n",
        "\n",
        "print(tokenized_text)"
      ]
    },
    {
      "cell_type": "markdown",
      "metadata": {
        "id": "gk_UZAlLNScm"
      },
      "source": [
        "### Lets create now our unique tokens list using the list_as_text and the tokenizer function. We should also combine here our special tokens"
      ]
    },
    {
      "cell_type": "code",
      "execution_count": 9,
      "metadata": {
        "id": "GyGMcE2CNScn"
      },
      "outputs": [],
      "source": [
        "tokens = tokenize(list_as_text)"
      ]
    },
    {
      "cell_type": "code",
      "execution_count": 10,
      "metadata": {
        "id": "mcMnvf9hNScn"
      },
      "outputs": [],
      "source": [
        "unique_tokens = list(set(tokens))"
      ]
    },
    {
      "cell_type": "code",
      "execution_count": 11,
      "metadata": {
        "id": "JETGZjltNSco"
      },
      "outputs": [],
      "source": [
        "\n",
        "# Sort tokens to ensure consistent indexing (except for special tokens)\n",
        "unique_tokens.sort()"
      ]
    },
    {
      "cell_type": "code",
      "execution_count": 12,
      "metadata": {
        "id": "IQDGa4oTNSco"
      },
      "outputs": [],
      "source": [
        "# Ensure special tokens are at the beginning\n",
        "unique_tokens = [token for token in unique_tokens if token not in (start_token, end_token, unknown_token, pad_token)] + \\\n",
        "                [start_token, end_token, unknown_token, pad_token]"
      ]
    },
    {
      "cell_type": "code",
      "execution_count": 13,
      "metadata": {
        "colab": {
          "base_uri": "https://localhost:8080/"
        },
        "id": "nHaZzhiNNScp",
        "outputId": "65931c15-9df4-4821-d60a-b2815a3a4559"
      },
      "outputs": [
        {
          "output_type": "stream",
          "name": "stdout",
          "text": [
            "First 10 tokens: ['a', 'ab', 'aback', 'abandon', 'abandoned', 'abandoning', 'abbey', 'abbeys', 'abduc', 'abduction']\n",
            "Last 10 tokens: ['zealous', 'zenith', 'zest', 'zied', 'zled', 'zoo', '[S]', '[EOS]', '[UNK]', '[PAD]']\n"
          ]
        }
      ],
      "source": [
        "# Print the first 10 elements\n",
        "print(\"First 10 tokens:\", unique_tokens[:10])\n",
        "\n",
        "# Print the last 10 elements\n",
        "print(\"Last 10 tokens:\", unique_tokens[-10:])\n"
      ]
    },
    {
      "cell_type": "markdown",
      "metadata": {
        "id": "Jhq3zPJuNScp"
      },
      "source": [
        "### Next, lets assign an index to each token and build our helper functions to go from token to id, and from id to token"
      ]
    },
    {
      "cell_type": "code",
      "execution_count": 14,
      "metadata": {
        "id": "QXG2VpbiNScq"
      },
      "outputs": [],
      "source": [
        "word2idx = {token: idx for idx, token in enumerate(unique_tokens)}"
      ]
    },
    {
      "cell_type": "code",
      "execution_count": 15,
      "metadata": {
        "colab": {
          "base_uri": "https://localhost:8080/"
        },
        "id": "SZtgmcw7NScq",
        "outputId": "bbc7d7aa-6850-4785-fb61-a3210d07c492"
      },
      "outputs": [
        {
          "output_type": "stream",
          "name": "stdout",
          "text": [
            "6763\n"
          ]
        }
      ],
      "source": [
        "# Example:\n",
        "id = word2idx[\"rose\"]\n",
        "print(id)"
      ]
    },
    {
      "cell_type": "code",
      "execution_count": 16,
      "metadata": {
        "id": "8fqj7T8ONScr"
      },
      "outputs": [],
      "source": [
        "\n",
        "idx2word = {idx: token for token, idx in word2idx.items()}"
      ]
    },
    {
      "cell_type": "code",
      "execution_count": 17,
      "metadata": {
        "colab": {
          "base_uri": "https://localhost:8080/"
        },
        "id": "KyOsOVLmNScr",
        "outputId": "852566c2-30a4-4c1e-a0df-f4586655a0d8"
      },
      "outputs": [
        {
          "output_type": "stream",
          "name": "stdout",
          "text": [
            "rose\n"
          ]
        }
      ],
      "source": [
        "# Example:\n",
        "word = idx2word[6763]\n",
        "print(word)"
      ]
    },
    {
      "cell_type": "code",
      "execution_count": null,
      "metadata": {
        "id": "F3Nd4OMaNScr"
      },
      "outputs": [],
      "source": []
    },
    {
      "cell_type": "markdown",
      "metadata": {
        "id": "Q8J6D7nKNScr"
      },
      "source": [
        "### While working with our tokenizer we will need to use the IDs of the special tokens, so lets define them here:"
      ]
    },
    {
      "cell_type": "code",
      "execution_count": 18,
      "metadata": {
        "id": "kK8KurXgNScs"
      },
      "outputs": [],
      "source": [
        "start_token_id = word2idx[start_token]  # Save the index of the PAD token\n",
        "end_token_id = word2idx[end_token]  # Save the index of the PAD token\n",
        "unknown_token_id = word2idx[unknown_token]  # Save the index of the PAD token\n",
        "pad_token_id = word2idx[pad_token]"
      ]
    },
    {
      "cell_type": "code",
      "execution_count": 19,
      "metadata": {
        "colab": {
          "base_uri": "https://localhost:8080/"
        },
        "id": "8jgEehSfNScs",
        "outputId": "2a3f65c1-37a5-484d-9b39-b2aa39542143"
      },
      "outputs": [
        {
          "output_type": "stream",
          "name": "stdout",
          "text": [
            "start_token:   [S]   - Id: 9088\n",
            "end_token:     [EOS] - Id: 9089\n",
            "unknown_token: [UNK] - Id: 9090\n",
            "pad_token:     [PAD] - Id: 9091\n"
          ]
        }
      ],
      "source": [
        "print(f\"start_token:   {start_token}   - Id: {start_token_id}\")\n",
        "print(f\"end_token:     {end_token} - Id: {end_token_id}\")\n",
        "print(f\"unknown_token: {unknown_token} - Id: {unknown_token_id}\")\n",
        "print(f\"pad_token:     {pad_token} - Id: {pad_token_id}\")"
      ]
    },
    {
      "cell_type": "code",
      "execution_count": null,
      "metadata": {
        "id": "AQZ3G852NScs"
      },
      "outputs": [],
      "source": []
    },
    {
      "cell_type": "markdown",
      "metadata": {
        "id": "tGVF12NnNScs"
      },
      "source": [
        "### Now the ENCODE function"
      ]
    },
    {
      "cell_type": "code",
      "execution_count": 20,
      "metadata": {
        "id": "zjcFD8yCNSct"
      },
      "outputs": [],
      "source": [
        "def encode(text, max_length=None, truncation=False, return_tensors=False):\n",
        "    \"\"\"\n",
        "    Encode the text into a sequence of token IDs, with optional truncation.\n",
        "\n",
        "    Parameters:\n",
        "    - text: The text to encode.\n",
        "    - max_length: The maximum length of the token sequence after encoding.\n",
        "    - truncation: Whether to truncate the sequence to max_length.\n",
        "\n",
        "    Returns:\n",
        "    - A list of token IDs representing the encoded text.\n",
        "    \"\"\"\n",
        "    tokens = tokenize(text)\n",
        "    encoded_tokens = [word2idx.get(token, word2idx[unknown_token]) for token in tokens]\n",
        "\n",
        "    # Prepend the start token ID and append the end token ID\n",
        "    encoded_tokens = [word2idx[start_token]] + encoded_tokens + [word2idx[end_token]]\n",
        "\n",
        "    # Handle truncation\n",
        "    if truncation and max_length is not None:\n",
        "        # Truncate the sequence if it's longer than max_length\n",
        "        encoded_tokens = encoded_tokens[:max_length - 1] + [word2idx[end_token]]\n",
        "\n",
        "    # Convert to tensor if return_tensors is True\n",
        "    if return_tensors:\n",
        "        encoded_tokens = torch.tensor([encoded_tokens])  # Adding a batch dimension\n",
        "\n",
        "    return encoded_tokens"
      ]
    },
    {
      "cell_type": "code",
      "execution_count": 21,
      "metadata": {
        "colab": {
          "base_uri": "https://localhost:8080/"
        },
        "id": "9nWARWcmNSct",
        "outputId": "d4262797-9bfb-48a1-97b8-418c52f642dd"
      },
      "outputs": [
        {
          "output_type": "execute_result",
          "data": {
            "text/plain": [
              "[9088, 6473, 9090, 4930, 4741, 9090, 9089]"
            ]
          },
          "metadata": {},
          "execution_count": 21
        }
      ],
      "source": [
        "text = \"Red roses mean love.\"\n",
        "encoded_tokens = encode(text)\n",
        "encoded_tokens"
      ]
    },
    {
      "cell_type": "code",
      "execution_count": null,
      "metadata": {
        "id": "e6Vf0hFZNSct"
      },
      "outputs": [],
      "source": []
    },
    {
      "cell_type": "markdown",
      "metadata": {
        "id": "Aevs1jG2NScu"
      },
      "source": [
        "### The DECODE function"
      ]
    },
    {
      "cell_type": "code",
      "execution_count": 22,
      "metadata": {
        "id": "39LjIu0rNScu"
      },
      "outputs": [],
      "source": [
        "def decode(indices, skip_special_tokens=False):\n",
        "    # Ensure indices is a list of integers, not a list of tensors\n",
        "    if isinstance(indices, torch.Tensor):\n",
        "        indices = indices.tolist()\n",
        "\n",
        "    # Define a set of all special token ids you want to skip\n",
        "    special_token_ids = set()\n",
        "    if skip_special_tokens:\n",
        "        special_token_ids.update([\n",
        "            start_token_id,\n",
        "            end_token_id,\n",
        "            unknown_token_id,\n",
        "            pad_token_id,\n",
        "            # Add any other special token ids you have\n",
        "        ])\n",
        "\n",
        "    # Use a list comprehension to filter out all special tokens\n",
        "    tokens = [idx2word[idx] for idx in indices if idx not in special_token_ids]\n",
        "\n",
        "    # Join the tokens into a single string with spaces\n",
        "    return ' '.join(tokens)"
      ]
    },
    {
      "cell_type": "code",
      "execution_count": 23,
      "metadata": {
        "colab": {
          "base_uri": "https://localhost:8080/",
          "height": 36
        },
        "id": "b99b-deANScv",
        "outputId": "6a500b1b-1692-4f94-c59b-8dc389965de3"
      },
      "outputs": [
        {
          "output_type": "execute_result",
          "data": {
            "text/plain": [
              "'[S] red [UNK] mean love [UNK] [EOS]'"
            ],
            "application/vnd.google.colaboratory.intrinsic+json": {
              "type": "string"
            }
          },
          "metadata": {},
          "execution_count": 23
        }
      ],
      "source": [
        "decoded_text = decode(encoded_tokens)\n",
        "decoded_text"
      ]
    },
    {
      "cell_type": "code",
      "execution_count": 25,
      "metadata": {
        "colab": {
          "base_uri": "https://localhost:8080/",
          "height": 36
        },
        "id": "zJLytz84NScv",
        "outputId": "4a626be8-e5c4-4e1f-fd63-e503f424f6d3"
      },
      "outputs": [
        {
          "output_type": "execute_result",
          "data": {
            "text/plain": [
              "'red mean love'"
            ],
            "application/vnd.google.colaboratory.intrinsic+json": {
              "type": "string"
            }
          },
          "metadata": {},
          "execution_count": 25
        }
      ],
      "source": [
        "decoded_text = decode(encoded_tokens,skip_special_tokens=True)\n",
        "decoded_text"
      ]
    },
    {
      "cell_type": "markdown",
      "metadata": {
        "id": "PcucSNuWNScw"
      },
      "source": [
        "### To make our tokenizer more compatible with the one from Huggingface, lets add these additional functions:"
      ]
    },
    {
      "cell_type": "code",
      "execution_count": 26,
      "metadata": {
        "id": "_bbhuxPhNScx"
      },
      "outputs": [],
      "source": [
        "def convert_ids_to_tokens(token_ids):\n",
        "    \"\"\"\n",
        "    Convert a list of token IDs to their corresponding tokens.\n",
        "\n",
        "    Parameters:\n",
        "    - token_ids: A list of integers representing token IDs.\n",
        "\n",
        "    Returns:\n",
        "    - tokens: A list of string tokens corresponding to the input IDs.\n",
        "    \"\"\"\n",
        "    tokens = [idx2word.get(token_id, unknown_token) for token_id in token_ids]\n",
        "\n",
        "    return tokens"
      ]
    },
    {
      "cell_type": "code",
      "execution_count": 27,
      "metadata": {
        "id": "hBHXZFfnNScx"
      },
      "outputs": [],
      "source": [
        "def convert_tokens_to_ids(tokens):\n",
        "    \"\"\"\n",
        "    Convert a list of tokens to their corresponding token IDs.\n",
        "\n",
        "    Parameters:\n",
        "    - tokens: A list of string tokens.\n",
        "\n",
        "    Returns:\n",
        "    - token_ids: A list of integers representing the token IDs.\n",
        "    \"\"\"\n",
        "    token_ids = [word2idx.get(token, unknown_token_id) for token in tokens]\n",
        "\n",
        "    return token_ids"
      ]
    },
    {
      "cell_type": "code",
      "execution_count": null,
      "metadata": {
        "id": "GmI_nlgkNScx"
      },
      "outputs": [],
      "source": []
    },
    {
      "cell_type": "markdown",
      "metadata": {
        "id": "heTCKmP-NScx"
      },
      "source": [
        "# Putting everything together:"
      ]
    },
    {
      "cell_type": "code",
      "execution_count": 28,
      "metadata": {
        "id": "3SohfRauNScz"
      },
      "outputs": [],
      "source": [
        "class SimpleTokenizer:\n",
        "    def __init__(self, text):\n",
        "        # Define special tokens\n",
        "        self.start_token = '[S]'\n",
        "        self.end_token = '[EOS]'\n",
        "        self.unknown_token = '[UNK]'\n",
        "        self.pad_token = '[PAD]'  # Add the PAD token\n",
        "\n",
        "        # Tokenize the input text and include special tokens\n",
        "        tokens = self.tokenize(text)\n",
        "        unique_tokens = list(set(tokens))\n",
        "\n",
        "        # Sort tokens to ensure consistent indexing (except for special tokens)\n",
        "        unique_tokens.sort()\n",
        "        # Ensure special tokens are at the beginning\n",
        "        unique_tokens = [token for token in unique_tokens if token not in (self.start_token, self.end_token, self.unknown_token, self.pad_token)] + \\\n",
        "                        [self.start_token, self.end_token, self.unknown_token, self.pad_token]\n",
        "\n",
        "        # Assign an index to each unique token\n",
        "        self.word2idx = {token: idx for idx, token in enumerate(unique_tokens)}\n",
        "        self.idx2word = {idx: token for token, idx in self.word2idx.items()}\n",
        "\n",
        "        self.start_token_id = self.word2idx[self.start_token]  # Save the index of the PAD token\n",
        "        self.end_token_id = self.word2idx[self.end_token]  # Save the index of the PAD token\n",
        "        self.unknown_token_id = self.word2idx[self.unknown_token]  # Save the index of the PAD token\n",
        "        self.pad_token_id = self.word2idx[self.pad_token]\n",
        "\n",
        "    def tokenize(self, text):\n",
        "        # Use regular expression to separate words from periods and commas\n",
        "        return re.findall(r\"[\\w']+|[.,!?]\", text.lower())\n",
        "\n",
        "    def encode(self, text, max_length=None, truncation=False, return_tensors=False):\n",
        "        \"\"\"\n",
        "        Encode the text into a sequence of token IDs, with optional truncation.\n",
        "\n",
        "        Parameters:\n",
        "        - text: The text to encode.\n",
        "        - max_length: The maximum length of the token sequence after encoding.\n",
        "        - truncation: Whether to truncate the sequence to max_length.\n",
        "\n",
        "        Returns:\n",
        "        - A list of token IDs representing the encoded text.\n",
        "        \"\"\"\n",
        "        tokens = self.tokenize(text)\n",
        "        encoded_tokens = [self.word2idx.get(token, self.word2idx[self.unknown_token]) for token in tokens]\n",
        "\n",
        "        # Prepend the start token ID and append the end token ID\n",
        "        encoded_tokens = [self.word2idx[self.start_token]] + encoded_tokens + [self.word2idx[self.end_token]]\n",
        "\n",
        "        # Handle truncation\n",
        "        if truncation and max_length is not None:\n",
        "            # Truncate the sequence if it's longer than max_length\n",
        "            encoded_tokens = encoded_tokens[:max_length - 1] + [self.word2idx[self.end_token]]\n",
        "\n",
        "        # Convert to tensor if return_tensors is True\n",
        "        if return_tensors:\n",
        "            encoded_tokens = torch.tensor([encoded_tokens])  # Adding a batch dimension\n",
        "\n",
        "        return encoded_tokens\n",
        "\n",
        "    def decode(self, indices, skip_special_tokens=False):\n",
        "        # Ensure indices is a list of integers, not a list of tensors\n",
        "        if isinstance(indices, torch.Tensor):\n",
        "            indices = indices.tolist()\n",
        "\n",
        "        # Define a set of all special token ids you want to skip\n",
        "        special_token_ids = set()\n",
        "        if skip_special_tokens:\n",
        "            special_token_ids.update([\n",
        "                self.start_token_id,\n",
        "                self.end_token_id,\n",
        "                self.unknown_token_id,\n",
        "                self.pad_token_id,\n",
        "                # Add any other special token ids you have\n",
        "            ])\n",
        "\n",
        "        # Use a list comprehension to filter out all special tokens\n",
        "        tokens = [self.idx2word[idx] for idx in indices if idx not in special_token_ids]\n",
        "\n",
        "        # Join the tokens into a single string with spaces\n",
        "        return ' '.join(tokens)\n",
        "\n",
        "    def convert_ids_to_tokens(self, token_ids):\n",
        "        \"\"\"\n",
        "        Convert a list of token IDs to their corresponding tokens.\n",
        "\n",
        "        Parameters:\n",
        "        - token_ids: A list of integers representing token IDs.\n",
        "\n",
        "        Returns:\n",
        "        - tokens: A list of string tokens corresponding to the input IDs.\n",
        "        \"\"\"\n",
        "        tokens = [self.idx2word.get(token_id, self.unknown_token) for token_id in token_ids]\n",
        "\n",
        "        return tokens\n",
        "\n",
        "    def convert_tokens_to_ids(self, tokens):\n",
        "        \"\"\"\n",
        "        Convert a list of tokens to their corresponding token IDs.\n",
        "\n",
        "        Parameters:\n",
        "        - tokens: A list of string tokens.\n",
        "\n",
        "        Returns:\n",
        "        - token_ids: A list of integers representing the token IDs.\n",
        "        \"\"\"\n",
        "        token_ids = [self.word2idx.get(token, self.unknown_token_id) for token in tokens]\n",
        "\n",
        "        return token_ids"
      ]
    },
    {
      "cell_type": "markdown",
      "metadata": {
        "id": "qPn6y5tsNSc0"
      },
      "source": [
        "## Testing our tokenizer"
      ]
    },
    {
      "cell_type": "code",
      "execution_count": 29,
      "metadata": {
        "colab": {
          "base_uri": "https://localhost:8080/"
        },
        "id": "hcQf9zxaNSc1",
        "outputId": "bf02c3a7-f45f-49fb-818b-634ae07adbca"
      },
      "outputs": [
        {
          "output_type": "stream",
          "name": "stdout",
          "text": [
            "Encoded: [9088, 9090, 9090, 0, 6763, 4269, 6473, 9090, 9089]\n",
            "Decoded: [S] [UNK] [UNK] a rose is red [UNK] [EOS]\n",
            "PAD token ID: 9091\n"
          ]
        }
      ],
      "source": [
        "\n",
        "# Usage example\n",
        "tokenizer = SimpleTokenizer(list_as_text)\n",
        "encoded = tokenizer.encode(\"color ? A rose is red.\")\n",
        "decoded = tokenizer.decode(encoded)\n",
        "\n",
        "print(f\"Encoded: {encoded}\")\n",
        "print(f\"Decoded: {decoded}\")\n",
        "print(f\"PAD token ID: {tokenizer.pad_token_id}\")\n"
      ]
    },
    {
      "cell_type": "code",
      "execution_count": null,
      "metadata": {
        "id": "kSsy3ffSNSc2"
      },
      "outputs": [],
      "source": []
    }
  ],
  "metadata": {
    "kernelspec": {
      "display_name": "Python 3",
      "language": "python",
      "name": "python3"
    },
    "language_info": {
      "codemirror_mode": {
        "name": "ipython",
        "version": 3
      },
      "file_extension": ".py",
      "mimetype": "text/x-python",
      "name": "python",
      "nbconvert_exporter": "python",
      "pygments_lexer": "ipython3",
      "version": "3.10.10"
    },
    "colab": {
      "provenance": []
    }
  },
  "nbformat": 4,
  "nbformat_minor": 0
}